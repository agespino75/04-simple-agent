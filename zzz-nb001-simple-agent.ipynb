{
 "cells": [
  {
   "cell_type": "markdown",
   "id": "5d733e1a-fff5-4739-b702-cc4af0a69d41",
   "metadata": {},
   "source": [
    "# How to build a simple Agent LLM App with LangGraph\n",
    "* Very basic tool-using Agent LLM App with memory.\n",
    "\n",
    "Language models can't do anything on their own; they can only create text based on what you ask them. However, LangChain allows people to build agents—think of these as smart systems or helpers— that use language models to think and decide what to do next.\n",
    "\n",
    "Here’s how it works:\n",
    "1. **Use the Language Model as a Brain**: The agent uses the language model to figure out which actions it should take, based on the information it has or what you ask it to do.\n",
    "2. **Taking Action**: After deciding, the agent then goes ahead and does those actions.\n",
    "3. **Learning and Adjusting**: Once the actions are done, the results can be given back to the language model. This helps the model check if everything is complete or if it needs to do something else.\n",
    "\n",
    "So, essentially, LangChain helps turn a language model from just a tool for writing and answering into a system that can act and react, almost like a very simple robot brain.\n",
    "\n",
    "Here we will build an agent that can interact with a search engine. You will be able to ask this agent questions, watch it calling the search tool, and have conversations with it."
   ]
  },
  {
   "cell_type": "markdown",
   "id": "d0399355-dece-4701-9bf4-4c204fe74929",
   "metadata": {},
   "source": [
    "## Concepts included\n",
    "* [LangGraph](https://python.langchain.com/v0.2/docs/concepts/#langgraph).\n",
    "\n",
    "LangGraph is a library created by the LangChain team for building stateful, multi-actor applications with LLMs, used to create agent and multi-agent workflows."
   ]
  },
  {
   "cell_type": "markdown",
   "id": "48386f20-c929-48a9-8720-0953fcd67dd0",
   "metadata": {},
   "source": [
    "## Setup"
   ]
  },
  {
   "cell_type": "markdown",
   "id": "e65ee060-21f2-4e01-b283-1fd656dac1e9",
   "metadata": {},
   "source": [
    "#### After you download the code from the github repository in your computer\n",
    "In terminal:\n",
    "* cd project_name\n",
    "* pyenv local 3.11.4\n",
    "* poetry install\n",
    "* poetry shell\n",
    "\n",
    "#### To open the notebook with Jupyter Notebooks\n",
    "In terminal:\n",
    "* jupyter lab\n",
    "\n",
    "Go to the folder of notebooks and open the right notebook.\n",
    "\n",
    "#### To see the code in Virtual Studio Code or your editor of choice.\n",
    "* open Virtual Studio Code or your editor of choice.\n",
    "* open the project-folder\n",
    "* open the 001-simple-agent.py file"
   ]
  },
  {
   "cell_type": "markdown",
   "id": "babbed42-5eaa-47f8-8c4c-d88ab4a6a5e3",
   "metadata": {},
   "source": [
    "## Create your .env file\n",
    "* In the github repo we have included a file named .env.example\n",
    "* Rename that file to .env file and here is where you will add your confidential api keys. Remember to include:\n",
    "* OPENAI_API_KEY=your_openai_api_key\n",
    "* LANGCHAIN_TRACING_V2=true\n",
    "* LANGCHAIN_ENDPOINT=https://api.smith.langchain.com\n",
    "* LANGCHAIN_API_KEY=your_langchain_api_key\n",
    "* LANGCHAIN_PROJECT=your_project_name"
   ]
  },
  {
   "cell_type": "markdown",
   "id": "40a63ff6-99ff-4629-b965-547d12a99ba6",
   "metadata": {},
   "source": [
    "We will call our LangSmith project **001-simple-agent**."
   ]
  },
  {
   "cell_type": "markdown",
   "id": "2af01334-1e2d-446a-9c8a-e2eeba448ba9",
   "metadata": {},
   "source": [
    "## Connect with the .env file located in the same directory of this notebook"
   ]
  },
  {
   "cell_type": "markdown",
   "id": "3dceb033-99f7-4fcb-bded-448ae1e69af1",
   "metadata": {},
   "source": [
    "If you are using the pre-loaded poetry shell, you do not need to install the following package because it is already pre-loaded for you:"
   ]
  },
  {
   "cell_type": "code",
   "id": "1b3a725a-01b2-4d05-b5a6-3e07deb3d6fc",
   "metadata": {
    "ExecuteTime": {
     "end_time": "2025-06-27T21:16:23.589031Z",
     "start_time": "2025-06-27T21:16:23.581914Z"
    }
   },
   "source": [
    "#!pip install python-dotenv"
   ],
   "outputs": [],
   "execution_count": 40
  },
  {
   "cell_type": "code",
   "id": "992ec4a9-aa01-4e44-aeb9-b9a1f3aa9e54",
   "metadata": {
    "ExecuteTime": {
     "end_time": "2025-06-27T21:16:23.605517Z",
     "start_time": "2025-06-27T21:16:23.600780Z"
    }
   },
   "source": [
    "import os\n",
    "from dotenv import load_dotenv, find_dotenv\n",
    "_ = load_dotenv(find_dotenv())\n",
    "openai_api_key = os.environ[\"OPENAI_API_KEY\"]"
   ],
   "outputs": [],
   "execution_count": 41
  },
  {
   "cell_type": "markdown",
   "id": "6c01d18b-f9f0-427b-a9dc-3d1885160578",
   "metadata": {},
   "source": [
    "#### Install LangChain"
   ]
  },
  {
   "cell_type": "markdown",
   "id": "7b4727a5-9c90-47cc-92cc-a39b143668ab",
   "metadata": {},
   "source": [
    "If you are using the pre-loaded poetry shell, you do not need to install the following package because it is already pre-loaded for you:"
   ]
  },
  {
   "cell_type": "code",
   "id": "ed746499-d1b8-41e5-b131-270cf5fa229b",
   "metadata": {
    "ExecuteTime": {
     "end_time": "2025-06-27T21:16:23.620478Z",
     "start_time": "2025-06-27T21:16:23.616443Z"
    }
   },
   "source": [
    "#!pip install langchain"
   ],
   "outputs": [],
   "execution_count": 42
  },
  {
   "cell_type": "markdown",
   "id": "cc2af3ef-c2c7-445f-92bd-a29c68abce25",
   "metadata": {},
   "source": [
    "## Connect with an LLM and start a conversation with it"
   ]
  },
  {
   "cell_type": "markdown",
   "id": "d5bc8254-5e18-4e1d-bc88-8cb0d3d1f221",
   "metadata": {},
   "source": [
    "If you are using the pre-loaded poetry shell, you do not need to install the following package because it is already pre-loaded for you:"
   ]
  },
  {
   "cell_type": "code",
   "id": "3fa7337f-3d60-4ede-bdf8-aa7a5cffec43",
   "metadata": {
    "ExecuteTime": {
     "end_time": "2025-06-27T21:16:23.630487Z",
     "start_time": "2025-06-27T21:16:23.628161Z"
    }
   },
   "source": [
    "#!pip install langchain-openai"
   ],
   "outputs": [],
   "execution_count": 43
  },
  {
   "cell_type": "markdown",
   "id": "bce3551e-95ca-41a1-8810-89c495bf93ab",
   "metadata": {},
   "source": [
    "* For this project, we will use OpenAI's gpt-3.5-turbo"
   ]
  },
  {
   "cell_type": "code",
   "id": "9afcbc7d-a816-41e3-925f-850883f5770d",
   "metadata": {
    "ExecuteTime": {
     "end_time": "2025-06-27T21:16:23.646046Z",
     "start_time": "2025-06-27T21:16:23.639658Z"
    }
   },
   "source": [
    "from langchain_openai import ChatOpenAI\n",
    "\n",
    "llm = ChatOpenAI(model=\"gpt-4o-mini\")"
   ],
   "outputs": [],
   "execution_count": 44
  },
  {
   "cell_type": "markdown",
   "id": "9913fc8c-254f-410d-aa8f-35eb0898855e",
   "metadata": {},
   "source": [
    "#### Track the operation in LangSmith\n",
    "* [Open LangSmith here](smith.langchain.com)"
   ]
  },
  {
   "cell_type": "markdown",
   "id": "edabbbe2-3b88-4554-bb31-a135408a9495",
   "metadata": {},
   "source": [
    "## Agents\n",
    "* Agents use LLMs as reasoning engines to determine which actions to take."
   ]
  },
  {
   "cell_type": "markdown",
   "id": "3d0f80a4-02b5-4987-8f46-28cec86b4946",
   "metadata": {},
   "source": [
    "## Tool-using Agent\n",
    "* For this basic agent we will use just one tool. In next advanced projects, you will learn how to use agents with several tools.\n",
    "* **Our tool of choice will be Tavily** - a search engine. \n",
    "#### Tavily API Key\n",
    "* You will need to add your Tavily API key in the .env file. Obtain a key by signing up on their [website](https://tavily.com/)."
   ]
  },
  {
   "cell_type": "markdown",
   "id": "0701e301-30dd-4fe4-b5fc-b59e2573e8d7",
   "metadata": {},
   "source": [
    "If you are using the pre-loaded poetry shell, you do not need to install the following package because it is already pre-loaded for you:"
   ]
  },
  {
   "cell_type": "code",
   "id": "ac0fe589-89fd-4edd-a526-c0f7e584612f",
   "metadata": {
    "ExecuteTime": {
     "end_time": "2025-06-27T21:16:23.656633Z",
     "start_time": "2025-06-27T21:16:23.654727Z"
    }
   },
   "source": [
    "#pip install langgraph"
   ],
   "outputs": [],
   "execution_count": 45
  },
  {
   "cell_type": "markdown",
   "id": "6a5be8d9-3b54-4e65-beee-0df3237ad239",
   "metadata": {},
   "source": [
    "#### Define tools"
   ]
  },
  {
   "cell_type": "markdown",
   "id": "0fb82301-03b7-45ca-8588-e6c6fd0f53ae",
   "metadata": {},
   "source": [
    "If you are using the pre-loaded poetry shell, you do not need to install the following package because it is already pre-loaded for you:"
   ]
  },
  {
   "cell_type": "code",
   "id": "350461a1-b8b3-463f-a97c-95fa931e2fc2",
   "metadata": {
    "ExecuteTime": {
     "end_time": "2025-06-27T21:16:23.668027Z",
     "start_time": "2025-06-27T21:16:23.665470Z"
    }
   },
   "source": [
    "#pip install langchain-community"
   ],
   "outputs": [],
   "execution_count": 46
  },
  {
   "cell_type": "code",
   "id": "41791f51-0372-42ce-9fb5-237323408617",
   "metadata": {
    "ExecuteTime": {
     "end_time": "2025-06-27T21:16:25.514902Z",
     "start_time": "2025-06-27T21:16:23.675526Z"
    }
   },
   "source": [
    "from langchain_community.tools.tavily_search import TavilySearchResults\n",
    "search = TavilySearchResults(max_results=2)\n",
    "search.invoke(\"Who are the top stars of the 2024 Eurocup?\")"
   ],
   "outputs": [
    {
     "data": {
      "text/plain": [
       "[{'title': 'Five of the most impressive performers from EURO 2024',\n",
       "  'url': 'https://www.flashscore.com/news/soccer-euro-five-of-the-most-impressive-performers-from-euro-2024/KxbVz2L8/',\n",
       "  'content': \"Here, AFP Sport looks at five stars who have broken through with impressive performances at Euro 2024: Dani Olmo (Spain) Spanish starlets Yamal and Nico Williams have lit up Euro 2024 from the flanks but Dani Olmo's contributions from the middle of the park have proved crucial for the finalists. The 26-year-old is well-known in Germany after four years at RB Leipzig but has made everyone else\",\n",
       "  'score': 0.81489426},\n",
       " {'title': 'Rodri, Musiala, Yamal, Pepe: Top 10 players from UEFA Euro 2024',\n",
       "  'url': 'https://www.olympics.com/en/news/rodri-musiala-pepe-top-10-players-from-uefa-euro-2024',\n",
       "  'content': 'Euro 2024: Top 10 players from the competition · Rodri (Spain) · Lamine Yamal (Spain) · Kobbie Mainoo (England) · Nico Williams (Spain) · Jamal',\n",
       "  'score': 0.6227582}]"
      ]
     },
     "execution_count": 47,
     "metadata": {},
     "output_type": "execute_result"
    }
   ],
   "execution_count": 47
  },
  {
   "cell_type": "code",
   "id": "69a2b11c-5c7c-40d8-aa37-5f6aeb4128c9",
   "metadata": {
    "ExecuteTime": {
     "end_time": "2025-06-27T21:16:25.529075Z",
     "start_time": "2025-06-27T21:16:25.526929Z"
    }
   },
   "source": [
    "tools = [search]"
   ],
   "outputs": [],
   "execution_count": 48
  },
  {
   "cell_type": "markdown",
   "id": "2dc166a2",
   "metadata": {},
   "source": [
    "* **In order to enable this model to do tool calling we use .bind_tools** to give the language model knowledge of these tools:"
   ]
  },
  {
   "cell_type": "code",
   "id": "c232d6a6-5b2d-4764-b2ea-58a9546a9fc2",
   "metadata": {
    "ExecuteTime": {
     "end_time": "2025-06-27T21:16:25.554227Z",
     "start_time": "2025-06-27T21:16:25.548326Z"
    }
   },
   "source": [
    "llm_with_tools = llm.bind_tools(tools)"
   ],
   "outputs": [],
   "execution_count": 49
  },
  {
   "cell_type": "markdown",
   "id": "a22e045c",
   "metadata": {},
   "source": [
    "## Create the agent\n",
    "* We will be using LangGraph to construct the agent. \n",
    "* **Note that below we are passing in the origina chat model, not the llm_with_tools we built later**. That is because create_tool_calling_executor will call .bind_tools for us under the hood."
   ]
  },
  {
   "cell_type": "code",
   "id": "3d358d2a-9b02-4761-b34c-66545149e4a3",
   "metadata": {
    "ExecuteTime": {
     "end_time": "2025-06-27T21:16:25.568709Z",
     "start_time": "2025-06-27T21:16:25.565834Z"
    }
   },
   "source": [
    "# from langgraph.prebuilt import chat_agent_executor\n",
    "\n",
    "# agent_executor = chat_agent_executor.create_tool_calling_executor(llm, tools)"
   ],
   "outputs": [],
   "execution_count": 50
  },
  {
   "cell_type": "markdown",
   "id": "4725a91a-edff-49a3-85a7-37b40b63545b",
   "metadata": {},
   "source": [
    "* In the latest version of langgraph, we have a most modern way to do this:"
   ]
  },
  {
   "cell_type": "code",
   "id": "a2cf5dce-629b-472b-908d-f4a19606f16a",
   "metadata": {
    "ExecuteTime": {
     "end_time": "2025-06-27T21:16:25.590947Z",
     "start_time": "2025-06-27T21:16:25.582880Z"
    }
   },
   "source": [
    "from langgraph.prebuilt import create_react_agent\n",
    "\n",
    "agent_executor = create_react_agent(llm, tools)"
   ],
   "outputs": [],
   "execution_count": 51
  },
  {
   "cell_type": "markdown",
   "id": "91674e8f",
   "metadata": {},
   "source": [
    "## Run the agent\n",
    "* Let's first try it with .invoke():"
   ]
  },
  {
   "cell_type": "code",
   "id": "0074c0c0-ff35-42c4-b862-3b0aa6abbe54",
   "metadata": {
    "ExecuteTime": {
     "end_time": "2025-06-27T21:16:30.509098Z",
     "start_time": "2025-06-27T21:16:25.598641Z"
    }
   },
   "source": [
    "from langchain_core.messages import HumanMessage\n",
    "\n",
    "response = agent_executor.invoke({\"messages\": [HumanMessage(content=\"Where is the soccer Eurocup 2024 played?\")]})\n",
    "\n",
    "response[\"messages\"]"
   ],
   "outputs": [
    {
     "data": {
      "text/plain": [
       "[HumanMessage(content='Where is the soccer Eurocup 2024 played?', additional_kwargs={}, response_metadata={}, id='002e6e5f-d4f4-4f6b-96fe-35b0a094c518'),\n",
       " AIMessage(content='', additional_kwargs={'tool_calls': [{'id': 'call_tCRE8DCWrcHeeIEUh5Ql7Yyx', 'function': {'arguments': '{\"query\":\"Eurocup 2024 location\"}', 'name': 'tavily_search_results_json'}, 'type': 'function'}], 'refusal': None}, response_metadata={'token_usage': {'completion_tokens': 23, 'prompt_tokens': 90, 'total_tokens': 113, 'completion_tokens_details': {'accepted_prediction_tokens': 0, 'audio_tokens': 0, 'reasoning_tokens': 0, 'rejected_prediction_tokens': 0}, 'prompt_tokens_details': {'audio_tokens': 0, 'cached_tokens': 0}}, 'model_name': 'gpt-4o-mini-2024-07-18', 'system_fingerprint': 'fp_34a54ae93c', 'id': 'chatcmpl-BnAioxyaq4LTMQaQvMu5T6t1Bx3LG', 'service_tier': 'default', 'finish_reason': 'tool_calls', 'logprobs': None}, id='run--c41fa309-4e9f-4adf-b25a-43d99c8a435e-0', tool_calls=[{'name': 'tavily_search_results_json', 'args': {'query': 'Eurocup 2024 location'}, 'id': 'call_tCRE8DCWrcHeeIEUh5Ql7Yyx', 'type': 'tool_call'}], usage_metadata={'input_tokens': 90, 'output_tokens': 23, 'total_tokens': 113, 'input_token_details': {'audio': 0, 'cache_read': 0}, 'output_token_details': {'audio': 0, 'reasoning': 0}}),\n",
       " ToolMessage(content='[{\"title\": \"Euro 2024 locations, host cities and stadiums - FOX Sports\", \"url\": \"https://www.foxsports.com/stories/soccer/euro-2024-locations-host-cities-and-stadiums\", \"content\": \"Published Time: 2024-03-01T14:44:49-05:00\\\\n\\\\nEuro 2024 locations, host cities and stadiums | FOX Sports\\\\n\\\\n===============\\\\n\\\\n\\\\n   Cologne: Cologne Stadium (49,827)\\\\n   Dortmund: BVB Stadion Dortmund (65,849)\\\\n   Düsseldorf: Düsseldorf Arena (51,031)\\\\n   Gelsenkirchen: Arena AufSchalke (54,740)\\\\n   Frankfurt: Frankfurt Arena (54,697)\\\\n   Hamburg: Volksparkstadion (52,245)\\\\n   Leipzig: Leipzig Stadium (42,959)\\\\n   Munich: Fußball Arena München (70,076)\\\\n   Stuttgart: Stuttgart Arena (54,906)\\\\n\\\\nshare\", \"score\": 0.8512743}, {\"title\": \"UEFA Euro 2024 - Wikipedia\", \"url\": \"https://en.wikipedia.org/wiki/UEFA_Euro_2024\", \"content\": \"UEFA Euro 2024 is located in Germany\\\\nBerlin\\\\nMunich\\\\nDortmund\\\\nGelsenkirchen\\\\nStuttgart\\\\nHamburg\\\\nDüsseldorf\\\\nCologne\\\\nFrankfurt\\\\nLeipzig\\\\n\\\\n### Team base camps\\\\n\\\\nEach team chose a \\\\\"team base camp\\\\\" for its stay between the matches. The teams trained and resided in these locations throughout the tournament, travelling to games staged away from their bases. The \\\\\"team base camp\\\\\" needed to be in Germany.\\\\n\\\\nBase camp and training ground by team—sortable [...] | Gelsenkirchen | UEFA Euro 2024 is located in Germany Berlin  Berlin  Munich  Munich  Dortmund  Dortmund  Gelsenkirchen  Gelsenkirchen  Stuttgart  Stuttgart  Hamburg  Hamburg  Düsseldorf  Düsseldorf  Cologne  Cologne  Frankfurt  Frankfurt  Leipzig  Leipzig  class=notpageimage| Location of the host cities of the UEFA Euro 2024. | | |\\\\n| Arena AufSchalke |\\\\n| Capacity: 50,000 |\\\\n|  |\\\\n| Hamburg |\\\\n| Volksparkstadion (Volksparkstadion Hamburg) |\\\\n| Capacity: 49,000 |\\\\n|  | [...] |  v  t  e  UEFA Euro 2024 stadiums | |\\\\n| --- | --- |\\\\n|  Olympiastadion Berlin \\\\\"Olympiastadion (Berlin)\\\\\") (Berlin)  Cologne Stadium (Cologne)  BVB Stadion Dortmund (Dortmund)  Düsseldorf Arena (Düsseldorf)  Frankfurt Arena \\\\\"Waldstadion (Frankfurt)\\\\\") (Frankfurt)  Arena AufSchalke (Gelsenkirchen)  Volksparkstadion Hamburg (Hamburg)  Leipzig Stadium \\\\\"Red Bull Arena (Leipzig)\\\\\") (Leipzig)  Munich Football Arena (Munich)  Stuttgart Arena (Stuttgart) | |\", \"score\": 0.834852}]', name='tavily_search_results_json', id='eca3ce5f-1545-4509-918d-2ce22ee98de8', tool_call_id='call_tCRE8DCWrcHeeIEUh5Ql7Yyx', artifact={'query': 'Eurocup 2024 location', 'follow_up_questions': None, 'answer': None, 'images': [], 'results': [{'url': 'https://www.foxsports.com/stories/soccer/euro-2024-locations-host-cities-and-stadiums', 'title': 'Euro 2024 locations, host cities and stadiums - FOX Sports', 'content': 'Published Time: 2024-03-01T14:44:49-05:00\\n\\nEuro 2024 locations, host cities and stadiums | FOX Sports\\n\\n===============\\n\\n\\n   Cologne: Cologne Stadium (49,827)\\n   Dortmund: BVB Stadion Dortmund (65,849)\\n   Düsseldorf: Düsseldorf Arena (51,031)\\n   Gelsenkirchen: Arena AufSchalke (54,740)\\n   Frankfurt: Frankfurt Arena (54,697)\\n   Hamburg: Volksparkstadion (52,245)\\n   Leipzig: Leipzig Stadium (42,959)\\n   Munich: Fußball Arena München (70,076)\\n   Stuttgart: Stuttgart Arena (54,906)\\n\\nshare', 'score': 0.8512743, 'raw_content': None}, {'url': 'https://en.wikipedia.org/wiki/UEFA_Euro_2024', 'title': 'UEFA Euro 2024 - Wikipedia', 'content': 'UEFA Euro 2024 is located in Germany\\nBerlin\\nMunich\\nDortmund\\nGelsenkirchen\\nStuttgart\\nHamburg\\nDüsseldorf\\nCologne\\nFrankfurt\\nLeipzig\\n\\n### Team base camps\\n\\nEach team chose a \"team base camp\" for its stay between the matches. The teams trained and resided in these locations throughout the tournament, travelling to games staged away from their bases. The \"team base camp\" needed to be in Germany.\\n\\nBase camp and training ground by team—sortable [...] | Gelsenkirchen | UEFA Euro 2024 is located in Germany Berlin  Berlin  Munich  Munich  Dortmund  Dortmund  Gelsenkirchen  Gelsenkirchen  Stuttgart  Stuttgart  Hamburg  Hamburg  Düsseldorf  Düsseldorf  Cologne  Cologne  Frankfurt  Frankfurt  Leipzig  Leipzig  class=notpageimage| Location of the host cities of the UEFA Euro 2024. | | |\\n| Arena AufSchalke |\\n| Capacity: 50,000 |\\n|  |\\n| Hamburg |\\n| Volksparkstadion (Volksparkstadion Hamburg) |\\n| Capacity: 49,000 |\\n|  | [...] |  v  t  e  UEFA Euro 2024 stadiums | |\\n| --- | --- |\\n|  Olympiastadion Berlin \"Olympiastadion (Berlin)\") (Berlin)  Cologne Stadium (Cologne)  BVB Stadion Dortmund (Dortmund)  Düsseldorf Arena (Düsseldorf)  Frankfurt Arena \"Waldstadion (Frankfurt)\") (Frankfurt)  Arena AufSchalke (Gelsenkirchen)  Volksparkstadion Hamburg (Hamburg)  Leipzig Stadium \"Red Bull Arena (Leipzig)\") (Leipzig)  Munich Football Arena (Munich)  Stuttgart Arena (Stuttgart) | |', 'score': 0.834852, 'raw_content': None}], 'response_time': 1.55}),\n",
       " AIMessage(content='The UEFA Euro 2024 is being held in Germany. The host cities include:\\n\\n- Berlin\\n- Munich\\n- Dortmund\\n- Gelsenkirchen\\n- Stuttgart\\n- Hamburg\\n- Düsseldorf\\n- Cologne\\n- Frankfurt\\n- Leipzig\\n\\nFor further details, you can visit the [Wikipedia page](https://en.wikipedia.org/wiki/UEFA_Euro_2024) or [FOX Sports](https://www.foxsports.com/stories/soccer/euro-2024-locations-host-cities-and-stadiums) which provide detailed information about the locations and stadiums.', additional_kwargs={'refusal': None}, response_metadata={'token_usage': {'completion_tokens': 121, 'prompt_tokens': 784, 'total_tokens': 905, 'completion_tokens_details': {'accepted_prediction_tokens': 0, 'audio_tokens': 0, 'reasoning_tokens': 0, 'rejected_prediction_tokens': 0}, 'prompt_tokens_details': {'audio_tokens': 0, 'cached_tokens': 0}}, 'model_name': 'gpt-4o-mini-2024-07-18', 'system_fingerprint': 'fp_34a54ae93c', 'id': 'chatcmpl-BnAiqbCxaPZ9x1IvvZyB98Ho0q3im', 'service_tier': 'default', 'finish_reason': 'stop', 'logprobs': None}, id='run--76647439-0df7-4205-8c41-1b0ed45ac023-0', usage_metadata={'input_tokens': 784, 'output_tokens': 121, 'total_tokens': 905, 'input_token_details': {'audio': 0, 'cache_read': 0}, 'output_token_details': {'audio': 0, 'reasoning': 0}})]"
      ]
     },
     "execution_count": 52,
     "metadata": {},
     "output_type": "execute_result"
    }
   ],
   "execution_count": 52
  },
  {
   "cell_type": "markdown",
   "id": "71504800-6cb3-4a33-91e3-0006c4200c3a",
   "metadata": {},
   "source": [
    "* Now let's try it with .stream():"
   ]
  },
  {
   "cell_type": "code",
   "id": "0e9691c4-3bf4-4216-b9c5-54f146071d09",
   "metadata": {
    "ExecuteTime": {
     "end_time": "2025-06-27T21:16:34.736183Z",
     "start_time": "2025-06-27T21:16:30.528784Z"
    }
   },
   "source": [
    "for chunk in agent_executor.stream(\n",
    "    {\"messages\": [HumanMessage(content=\"Who was Cleopatra?\")]}):\n",
    "    print(chunk)\n",
    "    print(\"----\")"
   ],
   "outputs": [
    {
     "name": "stdout",
     "output_type": "stream",
     "text": [
      "{'agent': {'messages': [AIMessage(content=\"Cleopatra VII Philopator (69–30 BC) was the last active ruler of the Ptolemaic Kingdom of Egypt. She is one of the most famous female figures in history, known for her intelligence, political acumen, and romantic liaisons with powerful Roman leaders such as Julius Caesar and Mark Antony. \\n\\nCleopatra was born in Alexandria, Egypt, and was a member of the Ptolemaic dynasty, which was of Macedonian Greek origin. She ascended to the throne in 51 BC and initially ruled alongside her brother Ptolemy XIII. Cleopatra is often remembered for her efforts to revive Egypt's fortunes amidst political turmoil and her skillful alliances with Rome, which ultimately led to her downfall.\\n\\nHer reign came to an end after the defeat of her forces alongside Mark Antony at the Battle of Actium in 31 BC. Following this defeat, Cleopatra and Antony both committed suicide, marking the end of Ptolemaic rule and the annexation of Egypt into the Roman Empire.\\n\\nCleopatra's legacy endures through various cultural depictions in literature, film, and art, symbolizing power, beauty, and the complexities of female leadership.\", additional_kwargs={'refusal': None}, response_metadata={'token_usage': {'completion_tokens': 240, 'prompt_tokens': 83, 'total_tokens': 323, 'completion_tokens_details': {'accepted_prediction_tokens': 0, 'audio_tokens': 0, 'reasoning_tokens': 0, 'rejected_prediction_tokens': 0}, 'prompt_tokens_details': {'audio_tokens': 0, 'cached_tokens': 0}}, 'model_name': 'gpt-4o-mini-2024-07-18', 'system_fingerprint': 'fp_34a54ae93c', 'id': 'chatcmpl-BnAisrAlCYg6mPesTU95f1WziYO7w', 'service_tier': 'default', 'finish_reason': 'stop', 'logprobs': None}, id='run--88acf837-cc84-493c-b549-60824db94d0c-0', usage_metadata={'input_tokens': 83, 'output_tokens': 240, 'total_tokens': 323, 'input_token_details': {'audio': 0, 'cache_read': 0}, 'output_token_details': {'audio': 0, 'reasoning': 0}})]}}\n",
      "----\n"
     ]
    }
   ],
   "execution_count": 53
  },
  {
   "cell_type": "markdown",
   "id": "bd52ab92-41fa-4116-9e0b-9c13eb1668ad",
   "metadata": {},
   "source": [
    "## Adding memory\n",
    "* Adding memory in LangGraph is very similar to what we did with LangChain."
   ]
  },
  {
   "cell_type": "code",
   "id": "79cc4f48-8e1e-45a4-9925-4f70cd841455",
   "metadata": {
    "ExecuteTime": {
     "end_time": "2025-06-27T21:16:34.763058Z",
     "start_time": "2025-06-27T21:16:34.759576Z"
    }
   },
   "source": [
    "from langgraph.checkpoint.memory import MemorySaver\n",
    "\n",
    "memory = MemorySaver()"
   ],
   "outputs": [],
   "execution_count": 54
  },
  {
   "cell_type": "markdown",
   "id": "54d8441e-2573-4f5d-9671-66b41b707fd6",
   "metadata": {},
   "source": [
    "* Let's create our new agent with memory and set one thread_id so the agent can create a memory for each session as we did with our previous conversational RAG app:"
   ]
  },
  {
   "cell_type": "code",
   "id": "db243a40-84de-4e89-a30d-9792717ac619",
   "metadata": {
    "ExecuteTime": {
     "end_time": "2025-06-27T21:16:34.795844Z",
     "start_time": "2025-06-27T21:16:34.788803Z"
    }
   },
   "source": [
    "agent_executor = create_react_agent(llm, tools, checkpointer=memory)\n",
    "\n",
    "config = {\"configurable\": {\"thread_id\": \"001\"}}"
   ],
   "outputs": [],
   "execution_count": 55
  },
  {
   "cell_type": "markdown",
   "id": "665c6f6a-9dd3-4336-b2aa-a510da135893",
   "metadata": {},
   "source": [
    "* Let's now try this new agent with .stream():"
   ]
  },
  {
   "cell_type": "code",
   "id": "ad9e8c0f-6352-478f-b376-69167a24471d",
   "metadata": {
    "ExecuteTime": {
     "end_time": "2025-06-27T21:16:38.116259Z",
     "start_time": "2025-06-27T21:16:34.806078Z"
    }
   },
   "source": [
    "for chunk in agent_executor.stream(\n",
    "    {\"messages\": [HumanMessage(content=\"Who is Buffy the Vampyre Slaywer?\")]}, config\n",
    "):\n",
    "    print(chunk)\n",
    "    print(\"----\")"
   ],
   "outputs": [
    {
     "name": "stdout",
     "output_type": "stream",
     "text": [
      "{'agent': {'messages': [AIMessage(content='\"Buffy the Vampire Slayer\" is a popular television series created by Joss Whedon that premiered in 1997. The show follows the story of Buffy Summers, a young woman chosen to battle against vampires, demons, and other supernatural foes. Buffy is portrayed by actress Sarah Michelle Gellar.\\n\\nThe series blends elements of horror, drama, and comedy while addressing themes such as friendship, love, and self-discovery. Buffy is known for her strength, resilience, and cleverness, often facing difficult challenges while trying to maintain a normal life as a high school and later college student.\\n\\nThe character and the show have had a significant cultural impact, leading to several spin-offs, comic books, and a devoted fan base. The series ran for seven seasons and has been praised for its character development and modern take on the horror genre.', additional_kwargs={'refusal': None}, response_metadata={'token_usage': {'completion_tokens': 169, 'prompt_tokens': 89, 'total_tokens': 258, 'completion_tokens_details': {'accepted_prediction_tokens': 0, 'audio_tokens': 0, 'reasoning_tokens': 0, 'rejected_prediction_tokens': 0}, 'prompt_tokens_details': {'audio_tokens': 0, 'cached_tokens': 0}}, 'model_name': 'gpt-4o-mini-2024-07-18', 'system_fingerprint': 'fp_34a54ae93c', 'id': 'chatcmpl-BnAixse9C4GkVN4tZEAVrDcAhxkYI', 'service_tier': 'default', 'finish_reason': 'stop', 'logprobs': None}, id='run--08a1eb7c-8af2-4226-8d9d-6cc3e81ed9e3-0', usage_metadata={'input_tokens': 89, 'output_tokens': 169, 'total_tokens': 258, 'input_token_details': {'audio': 0, 'cache_read': 0}, 'output_token_details': {'audio': 0, 'reasoning': 0}})]}}\n",
      "----\n"
     ]
    }
   ],
   "execution_count": 56
  },
  {
   "cell_type": "code",
   "id": "b163e8bd-f80b-4c2b-8c77-8ba84c12e9a2",
   "metadata": {
    "ExecuteTime": {
     "end_time": "2025-06-27T21:16:53.152066Z",
     "start_time": "2025-06-27T21:16:38.141525Z"
    }
   },
   "source": [
    "for chunk in agent_executor.stream(\n",
    "    {\"messages\": [HumanMessage(content=\"Who will play the slayer in the reboot, and will Spike be there?\")]}, config\n",
    "):\n",
    "    print(chunk)\n",
    "    print(\"----\")"
   ],
   "outputs": [
    {
     "name": "stdout",
     "output_type": "stream",
     "text": [
      "{'agent': {'messages': [AIMessage(content='', additional_kwargs={'tool_calls': [{'id': 'call_tGPmoh0p6p8V4tqn7WUOwFMp', 'function': {'arguments': '{\"query\":\"Buffy the Vampire Slayer reboot cast news 2023\"}', 'name': 'tavily_search_results_json'}, 'type': 'function'}], 'refusal': None}, response_metadata={'token_usage': {'completion_tokens': 28, 'prompt_tokens': 281, 'total_tokens': 309, 'completion_tokens_details': {'accepted_prediction_tokens': 0, 'audio_tokens': 0, 'reasoning_tokens': 0, 'rejected_prediction_tokens': 0}, 'prompt_tokens_details': {'audio_tokens': 0, 'cached_tokens': 0}}, 'model_name': 'gpt-4o-mini-2024-07-18', 'system_fingerprint': 'fp_34a54ae93c', 'id': 'chatcmpl-BnAj1G2iJkXd8C8rQxfpvyAknRg9g', 'service_tier': 'default', 'finish_reason': 'tool_calls', 'logprobs': None}, id='run--2d33f721-dbcf-4753-855d-bb4da712564c-0', tool_calls=[{'name': 'tavily_search_results_json', 'args': {'query': 'Buffy the Vampire Slayer reboot cast news 2023'}, 'id': 'call_tGPmoh0p6p8V4tqn7WUOwFMp', 'type': 'tool_call'}], usage_metadata={'input_tokens': 281, 'output_tokens': 28, 'total_tokens': 309, 'input_token_details': {'audio': 0, 'cache_read': 0}, 'output_token_details': {'audio': 0, 'reasoning': 0}})]}}\n",
      "----\n",
      "{'tools': {'messages': [ToolMessage(content='[{\"title\": \"\\'Buffy the Vampire Slayer\\' Reboot Gets First Official Trailer\", \"url\": \"https://insidethemagic.net/2023/10/buffy-the-vampire-slayer-reboot-gets-first-official-trailer-dr1/\", \"content\": \"The Buffy the Vampire Slayer reboot comes in the form of Slayers: A Buffyverse Story (2023), a brand-new Audible book that features Amber Benson as Tara Maclay (who also co-writes and co-directs), Charisma Carpenter as Cordelia Chase, Emma Caulfield Ford as Anya Jenkins/Anyanka, Anthony Head as Rupert Giles, James Marsters as Spike, Juliet Landau as Drusilla/Dru, Danny Strong as Jonathan Levinson, James Charles Leary as Clement/Clem, and newcomer Laya DeLeon Hayes as Indira Nunnally. [...] Buffy the Vampire Slayer is a comedy-action series that chronicles the adventures of Buffy Summers, a teenage girl who is gifted with the strength and skill to hunt vampires.\\\\n\\\\nBuffy the Vampire Slayerthe series stars Sarah Michelle Gellar (Buffy Summers), Charisma Carpenter (Cordelia Chase), David Boreanaz (Angel), Anthony Head (Rupert Giles), Nicholas Brendon (Xander Harris), Seth Green (Oz), Alyson Hannigan (Willow Rosenberg), Eliza Dushku (Faith), and James Marsters (Spike).\", \"score\": 0.9418739}, {\"title\": \"Buffy reboot casts new Sarah Michelle Gellar approved-Slayer\", \"url\": \"https://www.dailymail.co.uk/tvshowbiz/article-14717305/buffy-vampire-slayer-sarah-michelle-gellar-reveals-lead-star.html\", \"content\": \"Buffy the (New) Vampire Slayer! Sarah Michelle Gellar reveals lead star for reboot · The hotly anticipated Buffy reboot has cast its new slayer\", \"score\": 0.7711725}]', name='tavily_search_results_json', id='7ab0d079-8f9f-4a02-8524-46978481434b', tool_call_id='call_tGPmoh0p6p8V4tqn7WUOwFMp', artifact={'query': 'Buffy the Vampire Slayer reboot cast news 2023', 'follow_up_questions': None, 'answer': None, 'images': [], 'results': [{'title': \"'Buffy the Vampire Slayer' Reboot Gets First Official Trailer\", 'url': 'https://insidethemagic.net/2023/10/buffy-the-vampire-slayer-reboot-gets-first-official-trailer-dr1/', 'content': 'The Buffy the Vampire Slayer reboot comes in the form of Slayers: A Buffyverse Story (2023), a brand-new Audible book that features Amber Benson as Tara Maclay (who also co-writes and co-directs), Charisma Carpenter as Cordelia Chase, Emma Caulfield Ford as Anya Jenkins/Anyanka, Anthony Head as Rupert Giles, James Marsters as Spike, Juliet Landau as Drusilla/Dru, Danny Strong as Jonathan Levinson, James Charles Leary as Clement/Clem, and newcomer Laya DeLeon Hayes as Indira Nunnally. [...] Buffy the Vampire Slayer is a comedy-action series that chronicles the adventures of Buffy Summers, a teenage girl who is gifted with the strength and skill to hunt vampires.\\n\\nBuffy the Vampire Slayerthe series stars Sarah Michelle Gellar (Buffy Summers), Charisma Carpenter (Cordelia Chase), David Boreanaz (Angel), Anthony Head (Rupert Giles), Nicholas Brendon (Xander Harris), Seth Green (Oz), Alyson Hannigan (Willow Rosenberg), Eliza Dushku (Faith), and James Marsters (Spike).', 'score': 0.9418739, 'raw_content': None}, {'url': 'https://www.dailymail.co.uk/tvshowbiz/article-14717305/buffy-vampire-slayer-sarah-michelle-gellar-reveals-lead-star.html', 'title': 'Buffy reboot casts new Sarah Michelle Gellar approved-Slayer', 'content': 'Buffy the (New) Vampire Slayer! Sarah Michelle Gellar reveals lead star for reboot · The hotly anticipated Buffy reboot has cast its new slayer', 'score': 0.7711725, 'raw_content': None}], 'response_time': 2.53})]}}\n",
      "----\n",
      "{'agent': {'messages': [AIMessage(content='', additional_kwargs={'tool_calls': [{'id': 'call_rO4CIAKKhfz7BzYC4TszbeMt', 'function': {'arguments': '{\"query\": \"Buffy the Vampire Slayer reboot cast\"}', 'name': 'tavily_search_results_json'}, 'type': 'function'}, {'id': 'call_p4wEVflTgUwBM0HeTmC9AyOQ', 'function': {'arguments': '{\"query\": \"Buffy the Vampire Slayer reboot Spike character\"}', 'name': 'tavily_search_results_json'}, 'type': 'function'}], 'refusal': None}, response_metadata={'token_usage': {'completion_tokens': 65, 'prompt_tokens': 729, 'total_tokens': 794, 'completion_tokens_details': {'accepted_prediction_tokens': 0, 'audio_tokens': 0, 'reasoning_tokens': 0, 'rejected_prediction_tokens': 0}, 'prompt_tokens_details': {'audio_tokens': 0, 'cached_tokens': 0}}, 'model_name': 'gpt-4o-mini-2024-07-18', 'system_fingerprint': 'fp_34a54ae93c', 'id': 'chatcmpl-BnAj6NTFTmhGDTcaMcv2JHqtUaQGo', 'service_tier': 'default', 'finish_reason': 'tool_calls', 'logprobs': None}, id='run--a72735e9-ca2e-45e1-9eb7-612ad040dbb8-0', tool_calls=[{'name': 'tavily_search_results_json', 'args': {'query': 'Buffy the Vampire Slayer reboot cast'}, 'id': 'call_rO4CIAKKhfz7BzYC4TszbeMt', 'type': 'tool_call'}, {'name': 'tavily_search_results_json', 'args': {'query': 'Buffy the Vampire Slayer reboot Spike character'}, 'id': 'call_p4wEVflTgUwBM0HeTmC9AyOQ', 'type': 'tool_call'}], usage_metadata={'input_tokens': 729, 'output_tokens': 65, 'total_tokens': 794, 'input_token_details': {'audio': 0, 'cache_read': 0}, 'output_token_details': {'audio': 0, 'reasoning': 0}})]}}\n",
      "----\n",
      "{'tools': {'messages': [ToolMessage(content='[{\"title\": \"My Buffy The Vampire Slayer Reboot Cast - IMDb\", \"url\": \"https://www.imdb.com/list/ls074811130/\", \"content\": \"# My Buffy The Vampire Slayer Reboot Cast\\\\n\\\\nMckenna Grace\\\\n\\\\n### 1. Mckenna Grace\\\\n\\\\nSadie Sink at an event for The 26th Annual Screen Actors Guild Awards (2020)\\\\n\\\\n### 2. Sadie Sink\\\\n\\\\nDevon Bostick\\\\n\\\\n### 3. Devon Bostick\\\\n\\\\nJames Marsters\\\\n\\\\n### 4. James Marsters\\\\n\\\\nChrista B. Allen\\\\n\\\\n### 5. Christa B. Allen\\\\n\\\\nTyler Hoechlin\\\\n\\\\n### 6. Tyler Hoechlin\\\\n\\\\nShelley Hennig\\\\n\\\\n### 7. Shelley Hennig\\\\n\\\\nBill Skarsgård at an event for Nine Days (2020)\\\\n\\\\n### 8. Bill Skarsgård\\\\n\\\\nSabrina Carpenter in Emergency (2022) [...] ### 9. Sabrina Carpenter\\\\n\\\\nSarah Bolger\\\\n\\\\n### 10. Sarah Bolger\\\\n\\\\nTyler Blackburn\\\\n\\\\n### 11. Tyler Blackburn\\\\n\\\\nMolly C. Quinn\\\\n\\\\n### 12. Molly C. Quinn\\\\n\\\\nIsabelle Fuhrman at the 77th annual Cannes Film Festival\\\\n\\\\n### 13. Isabelle Fuhrman\\\\n\\\\n### More to explore\\\\n\\\\n### Recently viewed\\\\n\\\\nGet the IMDb App\\\\n\\\\n© 1990-2025 by IMDb.com, Inc.\", \"score\": 0.9284155}, {\"title\": \"Untitled Buffy the Vampire Slayer Reboot Project - IMDb\", \"url\": \"https://www.imdb.com/title/tt35664058/\", \"content\": \"# Untitled Buffy the Vampire Slayer Reboot Project\\\\n\\\\nFollows Buffy Summers as she trains a new vampire slayer, to fight the forces of evil.Follows Buffy Summers as she trains a new vampire slayer, to fight the forces of evil.Follows Buffy Summers as she trains a new vampire slayer, to fight the forces of evil.\\\\n\\\\n### Episodes1\\\\n\\\\n### Photos\\\\n\\\\n### Top cast2\\\\n\\\\nSarah Michelle Gellar\\\\nRyan Kiera Armstrong\\\\n\\\\n### More like this\", \"score\": 0.9132521}]', name='tavily_search_results_json', tool_call_id='call_rO4CIAKKhfz7BzYC4TszbeMt', artifact={'query': 'Buffy the Vampire Slayer reboot cast', 'follow_up_questions': None, 'answer': None, 'images': [], 'results': [{'url': 'https://www.imdb.com/list/ls074811130/', 'title': 'My Buffy The Vampire Slayer Reboot Cast - IMDb', 'content': '# My Buffy The Vampire Slayer Reboot Cast\\n\\nMckenna Grace\\n\\n### 1. Mckenna Grace\\n\\nSadie Sink at an event for The 26th Annual Screen Actors Guild Awards (2020)\\n\\n### 2. Sadie Sink\\n\\nDevon Bostick\\n\\n### 3. Devon Bostick\\n\\nJames Marsters\\n\\n### 4. James Marsters\\n\\nChrista B. Allen\\n\\n### 5. Christa B. Allen\\n\\nTyler Hoechlin\\n\\n### 6. Tyler Hoechlin\\n\\nShelley Hennig\\n\\n### 7. Shelley Hennig\\n\\nBill Skarsgård at an event for Nine Days (2020)\\n\\n### 8. Bill Skarsgård\\n\\nSabrina Carpenter in Emergency (2022) [...] ### 9. Sabrina Carpenter\\n\\nSarah Bolger\\n\\n### 10. Sarah Bolger\\n\\nTyler Blackburn\\n\\n### 11. Tyler Blackburn\\n\\nMolly C. Quinn\\n\\n### 12. Molly C. Quinn\\n\\nIsabelle Fuhrman at the 77th annual Cannes Film Festival\\n\\n### 13. Isabelle Fuhrman\\n\\n### More to explore\\n\\n### Recently viewed\\n\\nGet the IMDb App\\n\\n© 1990-2025 by IMDb.com, Inc.', 'score': 0.9284155, 'raw_content': None}, {'url': 'https://www.imdb.com/title/tt35664058/', 'title': 'Untitled Buffy the Vampire Slayer Reboot Project - IMDb', 'content': '# Untitled Buffy the Vampire Slayer Reboot Project\\n\\nFollows Buffy Summers as she trains a new vampire slayer, to fight the forces of evil.Follows Buffy Summers as she trains a new vampire slayer, to fight the forces of evil.Follows Buffy Summers as she trains a new vampire slayer, to fight the forces of evil.\\n\\n### Episodes1\\n\\n### Photos\\n\\n### Top cast2\\n\\nSarah Michelle Gellar\\nRyan Kiera Armstrong\\n\\n### More like this', 'score': 0.9132521, 'raw_content': None}], 'response_time': 3.41})]}}\n",
      "----\n",
      "{'tools': {'messages': [ToolMessage(content='[{\"title\": \"Buffy fans call for Spike\\'s return after cryptic James Marsters ...\", \"url\": \"https://www.radiotimes.com/tv/fantasy/buffy-spike-reboot-return-james-marsters-statement-newsupdate/\", \"content\": \"Buffy the Vampire Slayer star James Marsters (Spike) has addressed the reboot in a cryptic statement on Instagram.\", \"score\": 0.75809944}, {\"title\": \"Buffy the Vampire Slayer\\'s James Marsters Breaks Silence on Sarah ...\", \"url\": \"https://www.cbr.com/buffy-the-vampire-slayer-james-marsters-reboot/\", \"content\": \"# CBR\\\\n\\\\nCBR logo\\\\nCBR logo\\\\n\\\\n# Buffy the Vampire Slayer\\'s James Marsters Breaks Silence on Sarah Michelle Gellar\\'s Upcoming Reboot\\\\n\\\\n4\\\\nA collage of Buffy and Spike.\\\\n\\\\nBuffy the Vampire Slayer is one of the most influential fantasy shows and its impact inspired multiple other shows to come. A conversation about a reboot has been going on for years, but Hulu recently confirmed a revival is in early development. [...] We want to hear from you! Share your opinions in the thread below and remember to keep it respectful.\\\\n\\\\nYour comment has not been saved\\\\n\\\\nUser Display Picture\\\\nUser Display Picture\\\\n\\\\nI would love to see a reboot or spinoff with the original cast. If Buffy can\\'t be with Angel, then how about Spike, but I wanna see Riley get told Buffy tried to get there and she hollered for him trying to get his attention.\\\\n\\\\nUser Display Picture\\\\nCBR logo\\\\nUser Display Picture\\\\nCBR logo\\\\nCBR logo [...] Sarah Michelle Gellar is expected to reprise her role as Buffy Summers and is involved in developing the project. Oscar winner Chloé Zhao is set to direct, with a script by Nora and Lilla Zuckerman. So far, no other cast members are attached to the project, and during a livestream autograph signing the actor shared on his Instagram, James Marsters, who played the vampire Spike, wanted to get \\\\\"the elephant in the room out of the way,\\\\\" addressing the upcoming Buffy revival.\", \"score\": 0.740494}]', name='tavily_search_results_json', tool_call_id='call_p4wEVflTgUwBM0HeTmC9AyOQ', artifact={'query': 'Buffy the Vampire Slayer reboot Spike character', 'follow_up_questions': None, 'answer': None, 'images': [], 'results': [{'url': 'https://www.radiotimes.com/tv/fantasy/buffy-spike-reboot-return-james-marsters-statement-newsupdate/', 'title': \"Buffy fans call for Spike's return after cryptic James Marsters ...\", 'content': 'Buffy the Vampire Slayer star James Marsters (Spike) has addressed the reboot in a cryptic statement on Instagram.', 'score': 0.75809944, 'raw_content': None}, {'url': 'https://www.cbr.com/buffy-the-vampire-slayer-james-marsters-reboot/', 'title': \"Buffy the Vampire Slayer's James Marsters Breaks Silence on Sarah ...\", 'content': '# CBR\\n\\nCBR logo\\nCBR logo\\n\\n# Buffy the Vampire Slayer\\'s James Marsters Breaks Silence on Sarah Michelle Gellar\\'s Upcoming Reboot\\n\\n4\\nA collage of Buffy and Spike.\\n\\nBuffy the Vampire Slayer is one of the most influential fantasy shows and its impact inspired multiple other shows to come. A conversation about a reboot has been going on for years, but Hulu recently confirmed a revival is in early development. [...] We want to hear from you! Share your opinions in the thread below and remember to keep it respectful.\\n\\nYour comment has not been saved\\n\\nUser Display Picture\\nUser Display Picture\\n\\nI would love to see a reboot or spinoff with the original cast. If Buffy can\\'t be with Angel, then how about Spike, but I wanna see Riley get told Buffy tried to get there and she hollered for him trying to get his attention.\\n\\nUser Display Picture\\nCBR logo\\nUser Display Picture\\nCBR logo\\nCBR logo [...] Sarah Michelle Gellar is expected to reprise her role as Buffy Summers and is involved in developing the project. Oscar winner Chloé Zhao is set to direct, with a script by Nora and Lilla Zuckerman. So far, no other cast members are attached to the project, and during a livestream autograph signing the actor shared on his Instagram, James Marsters, who played the vampire Spike, wanted to get \"the elephant in the room out of the way,\" addressing the upcoming Buffy revival.', 'score': 0.740494, 'raw_content': None}], 'response_time': 2.96})]}}\n",
      "----\n",
      "{'agent': {'messages': [AIMessage(content='The reboot of \"Buffy the Vampire Slayer,\" titled \"Slayers: A Buffyverse Story,\" features **Laya DeLeon Hayes** in the lead role as the new Slayer. Sarah Michelle Gellar, who originally portrayed Buffy Summers, is involved in the project but details on her specific role have not been completely clarified.\\n\\nRegarding **Spike**, the character, originally played by **James Marsters**, is set to appear in the reboot as well. Marsters has expressed interest in the project, although specific plot details about his character\\'s involvement haven\\'t been fully disclosed yet. \\n\\nThe upcoming reboot is highly anticipated and aims to bring a new twist to the beloved storyline while respecting the original series\\' legacy.', additional_kwargs={'refusal': None}, response_metadata={'token_usage': {'completion_tokens': 141, 'prompt_tokens': 1756, 'total_tokens': 1897, 'completion_tokens_details': {'accepted_prediction_tokens': 0, 'audio_tokens': 0, 'reasoning_tokens': 0, 'rejected_prediction_tokens': 0}, 'prompt_tokens_details': {'audio_tokens': 0, 'cached_tokens': 0}}, 'model_name': 'gpt-4o-mini-2024-07-18', 'system_fingerprint': 'fp_34a54ae93c', 'id': 'chatcmpl-BnAjCTOuxmRY1uUnAjMlqqVVDO3xW', 'service_tier': 'default', 'finish_reason': 'stop', 'logprobs': None}, id='run--35b855a4-40ea-45bc-9bf4-9f397b5421fb-0', usage_metadata={'input_tokens': 1756, 'output_tokens': 141, 'total_tokens': 1897, 'input_token_details': {'audio': 0, 'cache_read': 0}, 'output_token_details': {'audio': 0, 'reasoning': 0}})]}}\n",
      "----\n"
     ]
    }
   ],
   "execution_count": 57
  },
  {
   "cell_type": "markdown",
   "id": "fa47f438-7996-4004-8c28-004f6b9292c1",
   "metadata": {},
   "source": [
    "* Let's change the thread_id and see what happens:"
   ]
  },
  {
   "cell_type": "code",
   "id": "464c7bce-dd1b-43e2-b6fa-a8e5edb88fe0",
   "metadata": {
    "ExecuteTime": {
     "end_time": "2025-06-27T21:16:53.976443Z",
     "start_time": "2025-06-27T21:16:53.178807Z"
    }
   },
   "source": [
    "config = {\"configurable\": {\"thread_id\": \"002\"}}\n",
    "for chunk in agent_executor.stream(\n",
    "    {\"messages\": [HumanMessage(content=\"About what tv show we were talking?\")]}, config\n",
    "):\n",
    "    print(chunk)\n",
    "    print(\"----\")"
   ],
   "outputs": [
    {
     "name": "stdout",
     "output_type": "stream",
     "text": [
      "{'agent': {'messages': [AIMessage(content=\"Could you please provide a bit more detail or context about the TV show you're referring to? This will help me assist you better!\", additional_kwargs={'refusal': None}, response_metadata={'token_usage': {'completion_tokens': 27, 'prompt_tokens': 87, 'total_tokens': 114, 'completion_tokens_details': {'accepted_prediction_tokens': 0, 'audio_tokens': 0, 'reasoning_tokens': 0, 'rejected_prediction_tokens': 0}, 'prompt_tokens_details': {'audio_tokens': 0, 'cached_tokens': 0}}, 'model_name': 'gpt-4o-mini-2024-07-18', 'system_fingerprint': 'fp_34a54ae93c', 'id': 'chatcmpl-BnAjF1b8fTSMwLXXn9wa1Fx4nIkl6', 'service_tier': 'default', 'finish_reason': 'stop', 'logprobs': None}, id='run--a55d3014-8ac4-467b-a99d-b18561f25f74-0', usage_metadata={'input_tokens': 87, 'output_tokens': 27, 'total_tokens': 114, 'input_token_details': {'audio': 0, 'cache_read': 0}, 'output_token_details': {'audio': 0, 'reasoning': 0}})]}}\n",
      "----\n"
     ]
    }
   ],
   "execution_count": 58
  },
  {
   "cell_type": "markdown",
   "id": "afd3a024-a9e6-486b-b03d-accde68e49cd",
   "metadata": {},
   "source": [
    "* As you can see, when we changed the threat_id we started a different conversation memory, so our app does not remember the previous interaction and instead of giving us the right answer it decided to hallucinate."
   ]
  },
  {
   "cell_type": "markdown",
   "id": "df94de21-8967-49ea-8709-d0cfb4306acf",
   "metadata": {},
   "source": [
    "## How to execute the code from Visual Studio Code\n",
    "* In Visual Studio Code, see the file 001-simple-agent.py\n",
    "* In terminal, make sure you are in the directory of the file and run:\n",
    "    * python 001-simple-agent.py\n",
    "        *\n",
    "Not working"
   ]
  },
  {
   "cell_type": "code",
   "id": "be0da530-4acc-4f67-b382-b59e8e71acb3",
   "metadata": {
    "ExecuteTime": {
     "end_time": "2025-06-27T21:16:54.000920Z",
     "start_time": "2025-06-27T21:16:53.999367Z"
    }
   },
   "source": [],
   "outputs": [],
   "execution_count": null
  }
 ],
 "metadata": {
  "kernelspec": {
   "display_name": "Python 3 (ipykernel)",
   "language": "python",
   "name": "python3"
  },
  "language_info": {
   "codemirror_mode": {
    "name": "ipython",
    "version": 3
   },
   "file_extension": ".py",
   "mimetype": "text/x-python",
   "name": "python",
   "nbconvert_exporter": "python",
   "pygments_lexer": "ipython3",
   "version": "3.11.4"
  }
 },
 "nbformat": 4,
 "nbformat_minor": 5
}
